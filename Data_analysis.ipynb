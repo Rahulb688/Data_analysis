{
  "nbformat": 4,
  "nbformat_minor": 0,
  "metadata": {
    "colab": {
      "name": "Data_analysis.ipynb",
      "provenance": [],
      "collapsed_sections": []
    },
    "kernelspec": {
      "name": "python3",
      "display_name": "Python 3"
    }
  },
  "cells": [
    {
      "cell_type": "markdown",
      "metadata": {
        "id": "2F1l3pC2x02L"
      },
      "source": [
        "# **Data analysis**\n",
        "\n",
        "\n",
        "Here we are using India covid dataset which is in form of csv file \n",
        "\n",
        "(data source : https://www.kaggle.com/heesoo37/120-years-of-olympic-history-athletes-and-results)\n",
        "\n"
      ]
    },
    {
      "cell_type": "markdown",
      "metadata": {
        "id": "Bi_qNSIb0IW4"
      },
      "source": [
        "**Load your Data**\n",
        "\n",
        "Now first step is to load the data  which contains two files \n",
        "\n",
        "1. athlete_events.csv \n",
        "\n",
        "2. noc_regions.csv  \n",
        "\n",
        "For this we need to use pandas library as follows \n",
        "\n"
      ]
    },
    {
      "cell_type": "code",
      "metadata": {
        "id": "Sl4kxTbIz-3F"
      },
      "source": [
        "#import the library first\n",
        "\n",
        "import pandas as pd\n",
        "\n",
        "data = pd.read_csv('athlete_events.csv')\n",
        "\n",
        "tdata = pd.read_csv('noc_regions.csv')\n",
        "\n",
        "#display the initial contents of both the datasets"
      ],
      "execution_count": 2,
      "outputs": []
    },
    {
      "cell_type": "markdown",
      "metadata": {
        "id": "GHjAJ9XN3ExN"
      },
      "source": [
        "**Review your Data** \n",
        "\n",
        "Now we will look at the contents of the data in details like number of columns, data types etc "
      ]
    },
    {
      "cell_type": "code",
      "metadata": {
        "colab": {
          "base_uri": "https://localhost:8080/",
          "height": 287
        },
        "id": "JLMFTikW5e2o",
        "outputId": "49fed6c7-5729-47aa-807c-600319248d62"
      },
      "source": [
        "\n",
        "data.head()   #this will display first 5 entries ( rows ) of your dataset"
      ],
      "execution_count": 3,
      "outputs": [
        {
          "output_type": "execute_result",
          "data": {
            "text/html": [
              "<div>\n",
              "<style scoped>\n",
              "    .dataframe tbody tr th:only-of-type {\n",
              "        vertical-align: middle;\n",
              "    }\n",
              "\n",
              "    .dataframe tbody tr th {\n",
              "        vertical-align: top;\n",
              "    }\n",
              "\n",
              "    .dataframe thead th {\n",
              "        text-align: right;\n",
              "    }\n",
              "</style>\n",
              "<table border=\"1\" class=\"dataframe\">\n",
              "  <thead>\n",
              "    <tr style=\"text-align: right;\">\n",
              "      <th></th>\n",
              "      <th>ID</th>\n",
              "      <th>Name</th>\n",
              "      <th>Sex</th>\n",
              "      <th>Age</th>\n",
              "      <th>Height</th>\n",
              "      <th>Weight</th>\n",
              "      <th>Team</th>\n",
              "      <th>NOC</th>\n",
              "      <th>Games</th>\n",
              "      <th>Year</th>\n",
              "      <th>Season</th>\n",
              "      <th>City</th>\n",
              "      <th>Sport</th>\n",
              "      <th>Event</th>\n",
              "      <th>Medal</th>\n",
              "    </tr>\n",
              "  </thead>\n",
              "  <tbody>\n",
              "    <tr>\n",
              "      <th>0</th>\n",
              "      <td>1</td>\n",
              "      <td>A Dijiang</td>\n",
              "      <td>M</td>\n",
              "      <td>24.0</td>\n",
              "      <td>180.0</td>\n",
              "      <td>80.0</td>\n",
              "      <td>China</td>\n",
              "      <td>CHN</td>\n",
              "      <td>1992 Summer</td>\n",
              "      <td>1992</td>\n",
              "      <td>Summer</td>\n",
              "      <td>Barcelona</td>\n",
              "      <td>Basketball</td>\n",
              "      <td>Basketball Men's Basketball</td>\n",
              "      <td>NaN</td>\n",
              "    </tr>\n",
              "    <tr>\n",
              "      <th>1</th>\n",
              "      <td>2</td>\n",
              "      <td>A Lamusi</td>\n",
              "      <td>M</td>\n",
              "      <td>23.0</td>\n",
              "      <td>170.0</td>\n",
              "      <td>60.0</td>\n",
              "      <td>China</td>\n",
              "      <td>CHN</td>\n",
              "      <td>2012 Summer</td>\n",
              "      <td>2012</td>\n",
              "      <td>Summer</td>\n",
              "      <td>London</td>\n",
              "      <td>Judo</td>\n",
              "      <td>Judo Men's Extra-Lightweight</td>\n",
              "      <td>NaN</td>\n",
              "    </tr>\n",
              "    <tr>\n",
              "      <th>2</th>\n",
              "      <td>3</td>\n",
              "      <td>Gunnar Nielsen Aaby</td>\n",
              "      <td>M</td>\n",
              "      <td>24.0</td>\n",
              "      <td>NaN</td>\n",
              "      <td>NaN</td>\n",
              "      <td>Denmark</td>\n",
              "      <td>DEN</td>\n",
              "      <td>1920 Summer</td>\n",
              "      <td>1920</td>\n",
              "      <td>Summer</td>\n",
              "      <td>Antwerpen</td>\n",
              "      <td>Football</td>\n",
              "      <td>Football Men's Football</td>\n",
              "      <td>NaN</td>\n",
              "    </tr>\n",
              "    <tr>\n",
              "      <th>3</th>\n",
              "      <td>4</td>\n",
              "      <td>Edgar Lindenau Aabye</td>\n",
              "      <td>M</td>\n",
              "      <td>34.0</td>\n",
              "      <td>NaN</td>\n",
              "      <td>NaN</td>\n",
              "      <td>Denmark/Sweden</td>\n",
              "      <td>DEN</td>\n",
              "      <td>1900 Summer</td>\n",
              "      <td>1900</td>\n",
              "      <td>Summer</td>\n",
              "      <td>Paris</td>\n",
              "      <td>Tug-Of-War</td>\n",
              "      <td>Tug-Of-War Men's Tug-Of-War</td>\n",
              "      <td>Gold</td>\n",
              "    </tr>\n",
              "    <tr>\n",
              "      <th>4</th>\n",
              "      <td>5</td>\n",
              "      <td>Christine Jacoba Aaftink</td>\n",
              "      <td>F</td>\n",
              "      <td>21.0</td>\n",
              "      <td>185.0</td>\n",
              "      <td>82.0</td>\n",
              "      <td>Netherlands</td>\n",
              "      <td>NED</td>\n",
              "      <td>1988 Winter</td>\n",
              "      <td>1988</td>\n",
              "      <td>Winter</td>\n",
              "      <td>Calgary</td>\n",
              "      <td>Speed Skating</td>\n",
              "      <td>Speed Skating Women's 500 metres</td>\n",
              "      <td>NaN</td>\n",
              "    </tr>\n",
              "  </tbody>\n",
              "</table>\n",
              "</div>"
            ],
            "text/plain": [
              "   ID                      Name  ...                             Event  Medal\n",
              "0   1                 A Dijiang  ...       Basketball Men's Basketball    NaN\n",
              "1   2                  A Lamusi  ...      Judo Men's Extra-Lightweight    NaN\n",
              "2   3       Gunnar Nielsen Aaby  ...           Football Men's Football    NaN\n",
              "3   4      Edgar Lindenau Aabye  ...       Tug-Of-War Men's Tug-Of-War   Gold\n",
              "4   5  Christine Jacoba Aaftink  ...  Speed Skating Women's 500 metres    NaN\n",
              "\n",
              "[5 rows x 15 columns]"
            ]
          },
          "metadata": {
            "tags": []
          },
          "execution_count": 3
        }
      ]
    },
    {
      "cell_type": "code",
      "metadata": {
        "colab": {
          "base_uri": "https://localhost:8080/",
          "height": 203
        },
        "id": "OtpHZrBN5rPE",
        "outputId": "5b9a94b0-e04d-428a-d3ab-282e74116b78"
      },
      "source": [
        "tdata.head()"
      ],
      "execution_count": 4,
      "outputs": [
        {
          "output_type": "execute_result",
          "data": {
            "text/html": [
              "<div>\n",
              "<style scoped>\n",
              "    .dataframe tbody tr th:only-of-type {\n",
              "        vertical-align: middle;\n",
              "    }\n",
              "\n",
              "    .dataframe tbody tr th {\n",
              "        vertical-align: top;\n",
              "    }\n",
              "\n",
              "    .dataframe thead th {\n",
              "        text-align: right;\n",
              "    }\n",
              "</style>\n",
              "<table border=\"1\" class=\"dataframe\">\n",
              "  <thead>\n",
              "    <tr style=\"text-align: right;\">\n",
              "      <th></th>\n",
              "      <th>NOC</th>\n",
              "      <th>region</th>\n",
              "      <th>notes</th>\n",
              "    </tr>\n",
              "  </thead>\n",
              "  <tbody>\n",
              "    <tr>\n",
              "      <th>0</th>\n",
              "      <td>AFG</td>\n",
              "      <td>Afghanistan</td>\n",
              "      <td>NaN</td>\n",
              "    </tr>\n",
              "    <tr>\n",
              "      <th>1</th>\n",
              "      <td>AHO</td>\n",
              "      <td>Curacao</td>\n",
              "      <td>Netherlands Antilles</td>\n",
              "    </tr>\n",
              "    <tr>\n",
              "      <th>2</th>\n",
              "      <td>ALB</td>\n",
              "      <td>Albania</td>\n",
              "      <td>NaN</td>\n",
              "    </tr>\n",
              "    <tr>\n",
              "      <th>3</th>\n",
              "      <td>ALG</td>\n",
              "      <td>Algeria</td>\n",
              "      <td>NaN</td>\n",
              "    </tr>\n",
              "    <tr>\n",
              "      <th>4</th>\n",
              "      <td>AND</td>\n",
              "      <td>Andorra</td>\n",
              "      <td>NaN</td>\n",
              "    </tr>\n",
              "  </tbody>\n",
              "</table>\n",
              "</div>"
            ],
            "text/plain": [
              "   NOC       region                 notes\n",
              "0  AFG  Afghanistan                   NaN\n",
              "1  AHO      Curacao  Netherlands Antilles\n",
              "2  ALB      Albania                   NaN\n",
              "3  ALG      Algeria                   NaN\n",
              "4  AND      Andorra                   NaN"
            ]
          },
          "metadata": {
            "tags": []
          },
          "execution_count": 4
        }
      ]
    },
    {
      "cell_type": "code",
      "metadata": {
        "colab": {
          "base_uri": "https://localhost:8080/"
        },
        "id": "oYQ3IWuI5ybA",
        "outputId": "549de23c-f646-451d-820c-0d603f10100b"
      },
      "source": [
        "data.info()  \n"
      ],
      "execution_count": 5,
      "outputs": [
        {
          "output_type": "stream",
          "text": [
            "<class 'pandas.core.frame.DataFrame'>\n",
            "RangeIndex: 271116 entries, 0 to 271115\n",
            "Data columns (total 15 columns):\n",
            " #   Column  Non-Null Count   Dtype  \n",
            "---  ------  --------------   -----  \n",
            " 0   ID      271116 non-null  int64  \n",
            " 1   Name    271116 non-null  object \n",
            " 2   Sex     271116 non-null  object \n",
            " 3   Age     261642 non-null  float64\n",
            " 4   Height  210945 non-null  float64\n",
            " 5   Weight  208241 non-null  float64\n",
            " 6   Team    271116 non-null  object \n",
            " 7   NOC     271116 non-null  object \n",
            " 8   Games   271116 non-null  object \n",
            " 9   Year    271116 non-null  int64  \n",
            " 10  Season  271116 non-null  object \n",
            " 11  City    271116 non-null  object \n",
            " 12  Sport   271116 non-null  object \n",
            " 13  Event   271116 non-null  object \n",
            " 14  Medal   39783 non-null   object \n",
            "dtypes: float64(3), int64(2), object(10)\n",
            "memory usage: 31.0+ MB\n"
          ],
          "name": "stdout"
        }
      ]
    },
    {
      "cell_type": "code",
      "metadata": {
        "colab": {
          "base_uri": "https://localhost:8080/"
        },
        "id": "P6x52RwF6D_N",
        "outputId": "bc45ed3f-eb8b-48c7-fc47-fee0c6b4bccb"
      },
      "source": [
        "tdata.info()  "
      ],
      "execution_count": 6,
      "outputs": [
        {
          "output_type": "stream",
          "text": [
            "<class 'pandas.core.frame.DataFrame'>\n",
            "RangeIndex: 230 entries, 0 to 229\n",
            "Data columns (total 3 columns):\n",
            " #   Column  Non-Null Count  Dtype \n",
            "---  ------  --------------  ----- \n",
            " 0   NOC     230 non-null    object\n",
            " 1   region  227 non-null    object\n",
            " 2   notes   21 non-null     object\n",
            "dtypes: object(3)\n",
            "memory usage: 5.5+ KB\n"
          ],
          "name": "stdout"
        }
      ]
    },
    {
      "cell_type": "markdown",
      "metadata": {
        "id": "SyQazQMh724j"
      },
      "source": [
        "**Preprocess your data**\n",
        "\n",
        "Now its time to preprocess your data where actual challenge is!! \n",
        "\n"
      ]
    },
    {
      "cell_type": "markdown",
      "metadata": {
        "id": "noQjkf8QB_68"
      },
      "source": [
        "***Missing values- Part 1*** \n",
        "\n",
        "---\n",
        "\n",
        "\n",
        "\n",
        "If your dataset contains 'blank' spaces, pandas will recognize it as missing values \n",
        "\n"
      ]
    },
    {
      "cell_type": "code",
      "metadata": {
        "colab": {
          "base_uri": "https://localhost:8080/",
          "height": 287
        },
        "id": "5eS3fXmsCpOc",
        "outputId": "8389b05c-997a-48cb-c47b-0ac86c1e2c54"
      },
      "source": [
        "\n",
        "print(tdata.isnull())\n",
        "\n",
        "'''\n",
        "as shown in result below, all blanks are represented as NaN values (missing values) and using .isnull() function , \n",
        "pandas specifies it as a null value that is wherever it is a NaN, its result is 'True'\n",
        "'''"
      ],
      "execution_count": 7,
      "outputs": [
        {
          "output_type": "stream",
          "text": [
            "       NOC  region  notes\n",
            "0    False   False   True\n",
            "1    False   False  False\n",
            "2    False   False   True\n",
            "3    False   False   True\n",
            "4    False   False   True\n",
            "..     ...     ...    ...\n",
            "225  False   False   True\n",
            "226  False   False  False\n",
            "227  False   False  False\n",
            "228  False   False   True\n",
            "229  False   False   True\n",
            "\n",
            "[230 rows x 3 columns]\n"
          ],
          "name": "stdout"
        },
        {
          "output_type": "execute_result",
          "data": {
            "application/vnd.google.colaboratory.intrinsic+json": {
              "type": "string"
            },
            "text/plain": [
              "\"\\nas shown in result below, all blanks are represented as NaN values (missing values) and using .isnull() function , \\npandas specifies it as a null value that is wherever it is a NaN, its result is 'True'\\n\""
            ]
          },
          "metadata": {
            "tags": []
          },
          "execution_count": 7
        }
      ]
    },
    {
      "cell_type": "markdown",
      "metadata": {
        "id": "e5C2hnAz_p-v"
      },
      "source": [
        "***Missing values- Part 2***\n",
        "\n",
        "---\n",
        "\n",
        "\n"
      ]
    },
    {
      "cell_type": "code",
      "metadata": {
        "colab": {
          "base_uri": "https://localhost:8080/"
        },
        "id": "2Ud21fLfFIak",
        "outputId": "6b1c96c2-9a13-459b-a31b-1b7c1086132e"
      },
      "source": [
        "\n",
        "print(data.isnull())\n"
      ],
      "execution_count": 8,
      "outputs": [
        {
          "output_type": "stream",
          "text": [
            "           ID   Name    Sex    Age  Height  ...  Season   City  Sport  Event  Medal\n",
            "0       False  False  False  False   False  ...   False  False  False  False   True\n",
            "1       False  False  False  False   False  ...   False  False  False  False   True\n",
            "2       False  False  False  False    True  ...   False  False  False  False   True\n",
            "3       False  False  False  False    True  ...   False  False  False  False  False\n",
            "4       False  False  False  False   False  ...   False  False  False  False   True\n",
            "...       ...    ...    ...    ...     ...  ...     ...    ...    ...    ...    ...\n",
            "271111  False  False  False  False   False  ...   False  False  False  False   True\n",
            "271112  False  False  False  False   False  ...   False  False  False  False   True\n",
            "271113  False  False  False  False   False  ...   False  False  False  False   True\n",
            "271114  False  False  False  False   False  ...   False  False  False  False   True\n",
            "271115  False  False  False  False   False  ...   False  False  False  False   True\n",
            "\n",
            "[271116 rows x 15 columns]\n"
          ],
          "name": "stdout"
        }
      ]
    },
    {
      "cell_type": "markdown",
      "metadata": {
        "id": "2PJviHlUILOl"
      },
      "source": [
        "***Great!! finally all of the different formats are recognized as missing values!!***  \n",
        "\n",
        "This is one of the critical aspects of data analysis in data science\n"
      ]
    },
    {
      "cell_type": "markdown",
      "metadata": {
        "id": "XfbnstNUKF1w"
      },
      "source": [
        "***Summarizing Missing Values***\n",
        "\n",
        "---\n",
        "\n",
        "\n",
        "\n",
        "now next step is to summarize the missing values \n",
        "\n",
        "Lets say we want to observe the total number of missing values for each feature (column name)\n",
        "\n"
      ]
    },
    {
      "cell_type": "code",
      "metadata": {
        "colab": {
          "base_uri": "https://localhost:8080/"
        },
        "id": "ol766hUrLP0E",
        "outputId": "526d4446-40fe-4eab-fd6f-c50fb544b39c"
      },
      "source": [
        "print (data.isnull().sum())   # it will give us the total number of missing values in each individual column "
      ],
      "execution_count": 9,
      "outputs": [
        {
          "output_type": "stream",
          "text": [
            "ID             0\n",
            "Name           0\n",
            "Sex            0\n",
            "Age         9474\n",
            "Height     60171\n",
            "Weight     62875\n",
            "Team           0\n",
            "NOC            0\n",
            "Games          0\n",
            "Year           0\n",
            "Season         0\n",
            "City           0\n",
            "Sport          0\n",
            "Event          0\n",
            "Medal     231333\n",
            "dtype: int64\n"
          ],
          "name": "stdout"
        }
      ]
    },
    {
      "cell_type": "code",
      "metadata": {
        "colab": {
          "base_uri": "https://localhost:8080/"
        },
        "id": "NbhPGZV5Lvjh",
        "outputId": "dd9db791-aeb9-4796-b9bd-11a81a6e53c5"
      },
      "source": [
        "#lets print it for our previous dataset \n",
        "print (tdata.isnull().sum()) "
      ],
      "execution_count": 10,
      "outputs": [
        {
          "output_type": "stream",
          "text": [
            "NOC         0\n",
            "region      3\n",
            "notes     209\n",
            "dtype: int64\n"
          ],
          "name": "stdout"
        }
      ]
    },
    {
      "cell_type": "code",
      "metadata": {
        "colab": {
          "base_uri": "https://localhost:8080/"
        },
        "id": "7mIhKxXPMCCh",
        "outputId": "c8f616b0-1c7a-411e-dc83-f0c40d46e38d"
      },
      "source": [
        "# suppose I want to check is there any missing value in entire dataset (even if there is one missing, it will give a True output)\n",
        "\n",
        "print (tdata.isnull().values.any())     #since both datasets contains missing values, it will be 'True' for both datasets\n",
        "\n",
        "print (data.isnull().values.any())"
      ],
      "execution_count": 11,
      "outputs": [
        {
          "output_type": "stream",
          "text": [
            "True\n",
            "True\n"
          ],
          "name": "stdout"
        }
      ]
    },
    {
      "cell_type": "code",
      "metadata": {
        "colab": {
          "base_uri": "https://localhost:8080/"
        },
        "id": "IubbMG0CMxKE",
        "outputId": "de6220fd-b07c-4ee5-cdf7-9141c5634ca0"
      },
      "source": [
        "# now I want to sum all the missing values ( how many total missing values in a dataset?)\n",
        "\n",
        "print (tdata.isnull().sum().sum())      #this will give the sum of all missing values present in all columns together in entire dataset\n",
        "\n",
        "print (data.isnull().sum().sum())"
      ],
      "execution_count": 12,
      "outputs": [
        {
          "output_type": "stream",
          "text": [
            "212\n",
            "363853\n"
          ],
          "name": "stdout"
        }
      ]
    },
    {
      "cell_type": "markdown",
      "metadata": {
        "id": "cqF0JfSqNPv1"
      },
      "source": [
        "**Great!! We have summarized our missing values !!**"
      ]
    },
    {
      "cell_type": "code",
      "metadata": {
        "colab": {
          "base_uri": "https://localhost:8080/"
        },
        "id": "lbBNCqD9sjKa",
        "outputId": "351b89bd-750c-45ce-f263-63ba057b5d52"
      },
      "source": [
        "#we can check that using .info() as follows \n",
        "data.info()"
      ],
      "execution_count": 13,
      "outputs": [
        {
          "output_type": "stream",
          "text": [
            "<class 'pandas.core.frame.DataFrame'>\n",
            "RangeIndex: 271116 entries, 0 to 271115\n",
            "Data columns (total 15 columns):\n",
            " #   Column  Non-Null Count   Dtype  \n",
            "---  ------  --------------   -----  \n",
            " 0   ID      271116 non-null  int64  \n",
            " 1   Name    271116 non-null  object \n",
            " 2   Sex     271116 non-null  object \n",
            " 3   Age     261642 non-null  float64\n",
            " 4   Height  210945 non-null  float64\n",
            " 5   Weight  208241 non-null  float64\n",
            " 6   Team    271116 non-null  object \n",
            " 7   NOC     271116 non-null  object \n",
            " 8   Games   271116 non-null  object \n",
            " 9   Year    271116 non-null  int64  \n",
            " 10  Season  271116 non-null  object \n",
            " 11  City    271116 non-null  object \n",
            " 12  Sport   271116 non-null  object \n",
            " 13  Event   271116 non-null  object \n",
            " 14  Medal   39783 non-null   object \n",
            "dtypes: float64(3), int64(2), object(10)\n",
            "memory usage: 31.0+ MB\n"
          ],
          "name": "stdout"
        }
      ]
    },
    {
      "cell_type": "markdown",
      "metadata": {
        "id": "nBHaPVx1tKL5"
      },
      "source": [
        "***Filling Missing Values***\n",
        "\n",
        "sometimes its not advisible to remove the rows containing missing values since they might contain valuable data in other columns. In this case, we need to fill these missing values by using certain values instead of directly removing those rows or columns \n",
        "\n",
        "\n",
        "There are many ways to fill the missing values, but we will discuss the approach which best suits for our dataset\n",
        "\n",
        "\n",
        "To do this , we will use below code for those respective columns where missing values are present in testing ('tdata') dataset"
      ]
    },
    {
      "cell_type": "code",
      "metadata": {
        "id": "1JJ71hxlwc46"
      },
      "source": [
        "data['Height'].fillna(data['Height'].mean(), inplace=True) #fill missing values \n",
        "data['Weight'].fillna(data['Weight'].mean(), inplace=True) #fill missing values \n",
        "data['Age'].fillna(data['Age'].mean(), inplace=True) #fill missing values "
      ],
      "execution_count": 14,
      "outputs": []
    },
    {
      "cell_type": "markdown",
      "metadata": {
        "id": "CDhXSr6X0Nlg"
      },
      "source": [
        "**Great!! We have replaced/filled our missing values !!**"
      ]
    },
    {
      "cell_type": "markdown",
      "metadata": {
        "id": "eR-tUwjoJUa7"
      },
      "source": [
        "**Analysis on Preprocessed data** \n",
        "\n",
        "Lets do analysis on this preprocessed data now\n",
        "\n",
        "Here we will find answers of some questions which we should able to answer as a data analyst/data scientist/researcher while working in data science domain"
      ]
    },
    {
      "cell_type": "markdown",
      "metadata": {
        "id": "u3RmN9Z4J6to"
      },
      "source": [
        "***Question 1***\n",
        "\n",
        "How many Teams and cities are involved?\n",
        "\n",
        "***solution***"
      ]
    },
    {
      "cell_type": "code",
      "metadata": {
        "colab": {
          "base_uri": "https://localhost:8080/"
        },
        "id": "98CZg2A1Kd-G",
        "outputId": "2cfa2447-f622-4012-c3c5-038e114b8abb"
      },
      "source": [
        "data['Team'].nunique()   #here we have total 1184 teams"
      ],
      "execution_count": 15,
      "outputs": [
        {
          "output_type": "execute_result",
          "data": {
            "text/plain": [
              "1184"
            ]
          },
          "metadata": {
            "tags": []
          },
          "execution_count": 15
        }
      ]
    },
    {
      "cell_type": "code",
      "metadata": {
        "colab": {
          "base_uri": "https://localhost:8080/"
        },
        "id": "Yeu_UjwUK08k",
        "outputId": "e8c2f7eb-058e-45df-c21d-8828551d8a87"
      },
      "source": [
        "data['City'].nunique()   #here we have total 42  "
      ],
      "execution_count": 16,
      "outputs": [
        {
          "output_type": "execute_result",
          "data": {
            "text/plain": [
              "42"
            ]
          },
          "metadata": {
            "tags": []
          },
          "execution_count": 16
        }
      ]
    },
    {
      "cell_type": "markdown",
      "metadata": {
        "id": "H4QxA8cZMF-g"
      },
      "source": [
        "***Question 2***\n",
        "\n",
        "What are top five States with the most number of confirmed cases?\n",
        "\n",
        "***solution***"
      ]
    },
    {
      "cell_type": "code",
      "metadata": {
        "colab": {
          "base_uri": "https://localhost:8080/",
          "height": 287
        },
        "id": "SxGz5RrcMVAT",
        "outputId": "a863b934-4862-4028-f7ae-e98d6d980168"
      },
      "source": [
        "df1= data.sort_values(by ='Height', ascending=False)   #here we are sorting the values in Height column \n",
        "df1.head(5)\n"
      ],
      "execution_count": 17,
      "outputs": [
        {
          "output_type": "execute_result",
          "data": {
            "text/html": [
              "<div>\n",
              "<style scoped>\n",
              "    .dataframe tbody tr th:only-of-type {\n",
              "        vertical-align: middle;\n",
              "    }\n",
              "\n",
              "    .dataframe tbody tr th {\n",
              "        vertical-align: top;\n",
              "    }\n",
              "\n",
              "    .dataframe thead th {\n",
              "        text-align: right;\n",
              "    }\n",
              "</style>\n",
              "<table border=\"1\" class=\"dataframe\">\n",
              "  <thead>\n",
              "    <tr style=\"text-align: right;\">\n",
              "      <th></th>\n",
              "      <th>ID</th>\n",
              "      <th>Name</th>\n",
              "      <th>Sex</th>\n",
              "      <th>Age</th>\n",
              "      <th>Height</th>\n",
              "      <th>Weight</th>\n",
              "      <th>Team</th>\n",
              "      <th>NOC</th>\n",
              "      <th>Games</th>\n",
              "      <th>Year</th>\n",
              "      <th>Season</th>\n",
              "      <th>City</th>\n",
              "      <th>Sport</th>\n",
              "      <th>Event</th>\n",
              "      <th>Medal</th>\n",
              "    </tr>\n",
              "  </thead>\n",
              "  <tbody>\n",
              "    <tr>\n",
              "      <th>265040</th>\n",
              "      <td>132627</td>\n",
              "      <td>Yao Ming</td>\n",
              "      <td>M</td>\n",
              "      <td>20.0</td>\n",
              "      <td>226.0</td>\n",
              "      <td>141.0</td>\n",
              "      <td>China</td>\n",
              "      <td>CHN</td>\n",
              "      <td>2000 Summer</td>\n",
              "      <td>2000</td>\n",
              "      <td>Summer</td>\n",
              "      <td>Sydney</td>\n",
              "      <td>Basketball</td>\n",
              "      <td>Basketball Men's Basketball</td>\n",
              "      <td>NaN</td>\n",
              "    </tr>\n",
              "    <tr>\n",
              "      <th>265041</th>\n",
              "      <td>132627</td>\n",
              "      <td>Yao Ming</td>\n",
              "      <td>M</td>\n",
              "      <td>23.0</td>\n",
              "      <td>226.0</td>\n",
              "      <td>141.0</td>\n",
              "      <td>China</td>\n",
              "      <td>CHN</td>\n",
              "      <td>2004 Summer</td>\n",
              "      <td>2004</td>\n",
              "      <td>Summer</td>\n",
              "      <td>Athina</td>\n",
              "      <td>Basketball</td>\n",
              "      <td>Basketball Men's Basketball</td>\n",
              "      <td>NaN</td>\n",
              "    </tr>\n",
              "    <tr>\n",
              "      <th>265042</th>\n",
              "      <td>132627</td>\n",
              "      <td>Yao Ming</td>\n",
              "      <td>M</td>\n",
              "      <td>27.0</td>\n",
              "      <td>226.0</td>\n",
              "      <td>141.0</td>\n",
              "      <td>China</td>\n",
              "      <td>CHN</td>\n",
              "      <td>2008 Summer</td>\n",
              "      <td>2008</td>\n",
              "      <td>Summer</td>\n",
              "      <td>Beijing</td>\n",
              "      <td>Basketball</td>\n",
              "      <td>Basketball Men's Basketball</td>\n",
              "      <td>NaN</td>\n",
              "    </tr>\n",
              "    <tr>\n",
              "      <th>32376</th>\n",
              "      <td>16639</td>\n",
              "      <td>Tommy Loren Burleson</td>\n",
              "      <td>M</td>\n",
              "      <td>20.0</td>\n",
              "      <td>223.0</td>\n",
              "      <td>102.0</td>\n",
              "      <td>United States</td>\n",
              "      <td>USA</td>\n",
              "      <td>1972 Summer</td>\n",
              "      <td>1972</td>\n",
              "      <td>Summer</td>\n",
              "      <td>Munich</td>\n",
              "      <td>Basketball</td>\n",
              "      <td>Basketball Men's Basketball</td>\n",
              "      <td>Silver</td>\n",
              "    </tr>\n",
              "    <tr>\n",
              "      <th>207375</th>\n",
              "      <td>104059</td>\n",
              "      <td>Arvydas Romas Sabonis</td>\n",
              "      <td>M</td>\n",
              "      <td>31.0</td>\n",
              "      <td>223.0</td>\n",
              "      <td>122.0</td>\n",
              "      <td>Lithuania</td>\n",
              "      <td>LTU</td>\n",
              "      <td>1996 Summer</td>\n",
              "      <td>1996</td>\n",
              "      <td>Summer</td>\n",
              "      <td>Atlanta</td>\n",
              "      <td>Basketball</td>\n",
              "      <td>Basketball Men's Basketball</td>\n",
              "      <td>Bronze</td>\n",
              "    </tr>\n",
              "  </tbody>\n",
              "</table>\n",
              "</div>"
            ],
            "text/plain": [
              "            ID                   Name  ...                        Event   Medal\n",
              "265040  132627               Yao Ming  ...  Basketball Men's Basketball     NaN\n",
              "265041  132627               Yao Ming  ...  Basketball Men's Basketball     NaN\n",
              "265042  132627               Yao Ming  ...  Basketball Men's Basketball     NaN\n",
              "32376    16639   Tommy Loren Burleson  ...  Basketball Men's Basketball  Silver\n",
              "207375  104059  Arvydas Romas Sabonis  ...  Basketball Men's Basketball  Bronze\n",
              "\n",
              "[5 rows x 15 columns]"
            ]
          },
          "metadata": {
            "tags": []
          },
          "execution_count": 17
        }
      ]
    }
  ]
}