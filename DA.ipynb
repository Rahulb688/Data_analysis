{
  "nbformat": 4,
  "nbformat_minor": 0,
  "metadata": {
    "colab": {
      "name": "Assignment_Rahul_Bal .ipynb",
      "provenance": [],
      "collapsed_sections": [],
      "toc_visible": true
    },
    "kernelspec": {
      "name": "python3",
      "display_name": "Python 3"
    }
  },
  "cells": [
    {
      "cell_type": "markdown",
      "metadata": {
        "id": "2F1l3pC2x02L"
      },
      "source": [
        "# **Covid data analysis**\n",
        "\n",
        "\n",
        "Here we are using India covid dataset which is in form of csv file \n",
        "\n",
        "(data source : https://www.kaggle.com/sudalairajkumar/covid19-in-india)\n",
        "\n"
      ]
    },
    {
      "cell_type": "markdown",
      "metadata": {
        "id": "Bi_qNSIb0IW4"
      },
      "source": [
        "**Load your Data**\n",
        "\n",
        "Now first step is to load the data  which contains two files \n",
        "\n",
        "1. covid_19_india.csv - contains statewise and datewise confirmed, cured, deaths data \n",
        "\n",
        "2. StatewiseTestingDetails.csv - contains statewise and datewise testing data \n",
        "\n",
        "For this we need to use pandas library as follows \n",
        "\n"
      ]
    },
    {
      "cell_type": "code",
      "metadata": {
        "id": "Sl4kxTbIz-3F"
      },
      "source": [
        "#import the library first\n",
        "\n",
        "import pandas as pd\n",
        "\n",
        "data = pd.read_csv('covid_19_india.csv')\n",
        "\n",
        "tdata = pd.read_csv('StatewiseTestingDetails.csv')\n",
        "\n",
        "#display the initial contents of both the datasets"
      ],
      "execution_count": null,
      "outputs": []
    },
    {
      "cell_type": "markdown",
      "metadata": {
        "id": "GHjAJ9XN3ExN"
      },
      "source": [
        "**Review your Data** \n",
        "\n",
        "Now we will look at the contents of the data in details like number of columns, data types etc "
      ]
    },
    {
      "cell_type": "code",
      "metadata": {
        "colab": {
          "base_uri": "https://localhost:8080/",
          "height": 195
        },
        "id": "JLMFTikW5e2o",
        "outputId": "ba7a2299-2614-4b42-d3d5-869ba796a62a"
      },
      "source": [
        "\n",
        "data.head()   #this will display first 5 entries ( rows ) of your dataset"
      ],
      "execution_count": null,
      "outputs": [
        {
          "output_type": "execute_result",
          "data": {
            "text/html": [
              "<div>\n",
              "<style scoped>\n",
              "    .dataframe tbody tr th:only-of-type {\n",
              "        vertical-align: middle;\n",
              "    }\n",
              "\n",
              "    .dataframe tbody tr th {\n",
              "        vertical-align: top;\n",
              "    }\n",
              "\n",
              "    .dataframe thead th {\n",
              "        text-align: right;\n",
              "    }\n",
              "</style>\n",
              "<table border=\"1\" class=\"dataframe\">\n",
              "  <thead>\n",
              "    <tr style=\"text-align: right;\">\n",
              "      <th></th>\n",
              "      <th>Sno</th>\n",
              "      <th>Date</th>\n",
              "      <th>Time</th>\n",
              "      <th>State/UnionTerritory</th>\n",
              "      <th>ConfirmedIndianNational</th>\n",
              "      <th>ConfirmedForeignNational</th>\n",
              "      <th>Cured</th>\n",
              "      <th>Deaths</th>\n",
              "      <th>Confirmed</th>\n",
              "    </tr>\n",
              "  </thead>\n",
              "  <tbody>\n",
              "    <tr>\n",
              "      <th>0</th>\n",
              "      <td>1</td>\n",
              "      <td>30/01/20</td>\n",
              "      <td>6:00 PM</td>\n",
              "      <td>Kerala</td>\n",
              "      <td>1</td>\n",
              "      <td>0</td>\n",
              "      <td>0</td>\n",
              "      <td>0</td>\n",
              "      <td>1</td>\n",
              "    </tr>\n",
              "    <tr>\n",
              "      <th>1</th>\n",
              "      <td>2</td>\n",
              "      <td>31/01/20</td>\n",
              "      <td>6:00 PM</td>\n",
              "      <td>Kerala</td>\n",
              "      <td>1</td>\n",
              "      <td>0</td>\n",
              "      <td>0</td>\n",
              "      <td>0</td>\n",
              "      <td>1</td>\n",
              "    </tr>\n",
              "    <tr>\n",
              "      <th>2</th>\n",
              "      <td>3</td>\n",
              "      <td>01/02/20</td>\n",
              "      <td>6:00 PM</td>\n",
              "      <td>Kerala</td>\n",
              "      <td>2</td>\n",
              "      <td>0</td>\n",
              "      <td>0</td>\n",
              "      <td>0</td>\n",
              "      <td>2</td>\n",
              "    </tr>\n",
              "    <tr>\n",
              "      <th>3</th>\n",
              "      <td>4</td>\n",
              "      <td>02/02/20</td>\n",
              "      <td>6:00 PM</td>\n",
              "      <td>Kerala</td>\n",
              "      <td>3</td>\n",
              "      <td>0</td>\n",
              "      <td>0</td>\n",
              "      <td>0</td>\n",
              "      <td>3</td>\n",
              "    </tr>\n",
              "    <tr>\n",
              "      <th>4</th>\n",
              "      <td>5</td>\n",
              "      <td>03/02/20</td>\n",
              "      <td>6:00 PM</td>\n",
              "      <td>Kerala</td>\n",
              "      <td>3</td>\n",
              "      <td>0</td>\n",
              "      <td>0</td>\n",
              "      <td>0</td>\n",
              "      <td>3</td>\n",
              "    </tr>\n",
              "  </tbody>\n",
              "</table>\n",
              "</div>"
            ],
            "text/plain": [
              "   Sno      Date     Time  ... Cured Deaths Confirmed\n",
              "0    1  30/01/20  6:00 PM  ...     0      0         1\n",
              "1    2  31/01/20  6:00 PM  ...     0      0         1\n",
              "2    3  01/02/20  6:00 PM  ...     0      0         2\n",
              "3    4  02/02/20  6:00 PM  ...     0      0         3\n",
              "4    5  03/02/20  6:00 PM  ...     0      0         3\n",
              "\n",
              "[5 rows x 9 columns]"
            ]
          },
          "metadata": {
            "tags": []
          },
          "execution_count": 64
        }
      ]
    },
    {
      "cell_type": "code",
      "metadata": {
        "colab": {
          "base_uri": "https://localhost:8080/",
          "height": 195
        },
        "id": "OtpHZrBN5rPE",
        "outputId": "2e7931e7-8198-4bb9-ee78-e7ab4107e218"
      },
      "source": [
        "tdata.head()"
      ],
      "execution_count": null,
      "outputs": [
        {
          "output_type": "execute_result",
          "data": {
            "text/html": [
              "<div>\n",
              "<style scoped>\n",
              "    .dataframe tbody tr th:only-of-type {\n",
              "        vertical-align: middle;\n",
              "    }\n",
              "\n",
              "    .dataframe tbody tr th {\n",
              "        vertical-align: top;\n",
              "    }\n",
              "\n",
              "    .dataframe thead th {\n",
              "        text-align: right;\n",
              "    }\n",
              "</style>\n",
              "<table border=\"1\" class=\"dataframe\">\n",
              "  <thead>\n",
              "    <tr style=\"text-align: right;\">\n",
              "      <th></th>\n",
              "      <th>Date</th>\n",
              "      <th>State</th>\n",
              "      <th>TotalSamples</th>\n",
              "      <th>Negative</th>\n",
              "      <th>Positive</th>\n",
              "    </tr>\n",
              "  </thead>\n",
              "  <tbody>\n",
              "    <tr>\n",
              "      <th>0</th>\n",
              "      <td>2020-04-17</td>\n",
              "      <td>Andaman and Nicobar Islands</td>\n",
              "      <td>1403.0</td>\n",
              "      <td>1210</td>\n",
              "      <td>12.0</td>\n",
              "    </tr>\n",
              "    <tr>\n",
              "      <th>1</th>\n",
              "      <td>2020-04-24</td>\n",
              "      <td>Andaman and Nicobar Islands</td>\n",
              "      <td>2679.0</td>\n",
              "      <td>NaN</td>\n",
              "      <td>27.0</td>\n",
              "    </tr>\n",
              "    <tr>\n",
              "      <th>2</th>\n",
              "      <td>2020-04-27</td>\n",
              "      <td>Andaman and Nicobar Islands</td>\n",
              "      <td>2848.0</td>\n",
              "      <td>NaN</td>\n",
              "      <td>33.0</td>\n",
              "    </tr>\n",
              "    <tr>\n",
              "      <th>3</th>\n",
              "      <td>2020-05-01</td>\n",
              "      <td>Andaman and Nicobar Islands</td>\n",
              "      <td>3754.0</td>\n",
              "      <td>NaN</td>\n",
              "      <td>33.0</td>\n",
              "    </tr>\n",
              "    <tr>\n",
              "      <th>4</th>\n",
              "      <td>2020-05-16</td>\n",
              "      <td>Andaman and Nicobar Islands</td>\n",
              "      <td>6677.0</td>\n",
              "      <td>NaN</td>\n",
              "      <td>33.0</td>\n",
              "    </tr>\n",
              "  </tbody>\n",
              "</table>\n",
              "</div>"
            ],
            "text/plain": [
              "         Date                        State  TotalSamples Negative  Positive\n",
              "0  2020-04-17  Andaman and Nicobar Islands        1403.0     1210      12.0\n",
              "1  2020-04-24  Andaman and Nicobar Islands        2679.0      NaN      27.0\n",
              "2  2020-04-27  Andaman and Nicobar Islands        2848.0      NaN      33.0\n",
              "3  2020-05-01  Andaman and Nicobar Islands        3754.0      NaN      33.0\n",
              "4  2020-05-16  Andaman and Nicobar Islands        6677.0      NaN      33.0"
            ]
          },
          "metadata": {
            "tags": []
          },
          "execution_count": 65
        }
      ]
    },
    {
      "cell_type": "code",
      "metadata": {
        "colab": {
          "base_uri": "https://localhost:8080/",
          "height": 321
        },
        "id": "oYQ3IWuI5ybA",
        "outputId": "62984bc0-23c3-41f6-b353-c29eac95179c"
      },
      "source": [
        "data.info()  \n",
        "\n",
        "'''\n",
        "you can observe below that out of total 9291 entries, all columns contains some data that means all entries are present, \n",
        "but when you observe your actual dataset file, you will find '-' at many of the places\n",
        "we will discuss about this in later part of this session \n",
        "'''"
      ],
      "execution_count": null,
      "outputs": [
        {
          "output_type": "stream",
          "text": [
            "<class 'pandas.core.frame.DataFrame'>\n",
            "RangeIndex: 9291 entries, 0 to 9290\n",
            "Data columns (total 9 columns):\n",
            " #   Column                    Non-Null Count  Dtype \n",
            "---  ------                    --------------  ----- \n",
            " 0   Sno                       9291 non-null   int64 \n",
            " 1   Date                      9291 non-null   object\n",
            " 2   Time                      9291 non-null   object\n",
            " 3   State/UnionTerritory      9291 non-null   object\n",
            " 4   ConfirmedIndianNational   9291 non-null   object\n",
            " 5   ConfirmedForeignNational  9291 non-null   object\n",
            " 6   Cured                     9291 non-null   int64 \n",
            " 7   Deaths                    9291 non-null   int64 \n",
            " 8   Confirmed                 9291 non-null   int64 \n",
            "dtypes: int64(4), object(5)\n",
            "memory usage: 653.4+ KB\n"
          ],
          "name": "stdout"
        },
        {
          "output_type": "execute_result",
          "data": {
            "application/vnd.google.colaboratory.intrinsic+json": {
              "type": "string"
            },
            "text/plain": [
              "\"\\nyou can observe below that out of total 9291 entries, all columns contains some data that means all entries are present, \\nbut when you observe your actual dataset file, you will find '-' at many of the places\\nwe will discuss about this in later part of this session \\n\""
            ]
          },
          "metadata": {
            "tags": []
          },
          "execution_count": 66
        }
      ]
    },
    {
      "cell_type": "code",
      "metadata": {
        "colab": {
          "base_uri": "https://localhost:8080/"
        },
        "id": "P6x52RwF6D_N",
        "outputId": "2e1d3243-069b-4281-e8fd-e2da92b0e5a4"
      },
      "source": [
        "tdata.info()  #you can observe that out of total 8066 entries, there are less data entries \n",
        "              # in columns 'Negative' and 'Positive' as mentioned below"
      ],
      "execution_count": null,
      "outputs": [
        {
          "output_type": "stream",
          "text": [
            "<class 'pandas.core.frame.DataFrame'>\n",
            "RangeIndex: 8066 entries, 0 to 8065\n",
            "Data columns (total 5 columns):\n",
            " #   Column        Non-Null Count  Dtype  \n",
            "---  ------        --------------  -----  \n",
            " 0   Date          8066 non-null   object \n",
            " 1   State         8066 non-null   object \n",
            " 2   TotalSamples  8066 non-null   float64\n",
            " 3   Negative      4294 non-null   object \n",
            " 4   Positive      4866 non-null   float64\n",
            "dtypes: float64(2), object(3)\n",
            "memory usage: 315.2+ KB\n"
          ],
          "name": "stdout"
        }
      ]
    },
    {
      "cell_type": "markdown",
      "metadata": {
        "id": "SyQazQMh724j"
      },
      "source": [
        "**Preprocess your data**\n",
        "\n",
        "Now its time to preprocess your data where actual challenge is!! \n",
        "\n"
      ]
    },
    {
      "cell_type": "markdown",
      "metadata": {
        "id": "noQjkf8QB_68"
      },
      "source": [
        "***Missing values- Part 1*** \n",
        "\n",
        "---\n",
        "\n",
        "\n",
        "\n",
        "If your dataset contains 'blank' spaces, pandas will recognize it as missing values \n",
        "\n",
        "In our dataset which we have stored in'tdata', columns of names 'Negative' and 'Positive' contains blank/empty cells which pandas will recognize as follows "
      ]
    },
    {
      "cell_type": "code",
      "metadata": {
        "colab": {
          "base_uri": "https://localhost:8080/",
          "height": 455
        },
        "id": "5eS3fXmsCpOc",
        "outputId": "bbcf20c2-b460-4293-a7cd-123ad1f271dc"
      },
      "source": [
        "print(tdata['Negative'])\n",
        "print(tdata['Negative'].isnull())\n",
        "\n",
        "'''\n",
        "as shown in result below, all blanks are represented as NaN values (missing values) and using .isnull() function , \n",
        "pandas specifies it as a null value that is wherever it is a NaN, its result is 'True'\n",
        "'''"
      ],
      "execution_count": null,
      "outputs": [
        {
          "output_type": "stream",
          "text": [
            "0       1210\n",
            "1        NaN\n",
            "2        NaN\n",
            "3        NaN\n",
            "4        NaN\n",
            "        ... \n",
            "8061     NaN\n",
            "8062     NaN\n",
            "8063     NaN\n",
            "8064     NaN\n",
            "8065     NaN\n",
            "Name: Negative, Length: 8066, dtype: object\n",
            "0       False\n",
            "1        True\n",
            "2        True\n",
            "3        True\n",
            "4        True\n",
            "        ...  \n",
            "8061     True\n",
            "8062     True\n",
            "8063     True\n",
            "8064     True\n",
            "8065     True\n",
            "Name: Negative, Length: 8066, dtype: bool\n"
          ],
          "name": "stdout"
        },
        {
          "output_type": "execute_result",
          "data": {
            "application/vnd.google.colaboratory.intrinsic+json": {
              "type": "string"
            },
            "text/plain": [
              "\"\\nas shown in result below, all blanks are represented as NaN values (missing values) and using .isnull() function , \\npandas specifies it as a null value that is wherever it is a NaN, its result is 'True'\\n\""
            ]
          },
          "metadata": {
            "tags": []
          },
          "execution_count": 68
        }
      ]
    },
    {
      "cell_type": "markdown",
      "metadata": {
        "id": "e5C2hnAz_p-v"
      },
      "source": [
        "***Missing values- Part 2***\n",
        "\n",
        "---\n",
        "\n",
        "\n",
        "\n",
        "Now lets consider our other dataset which we have stored in 'data' \n",
        "\n",
        "In this dataset, columns with name 'ConfirmedIndianNational' and 'ConfirmedForeignNational' contains some data which is neither in 'empty' nor in 'n/a' form. It is mentioned in '-' (dash) form which is an irrelevant data \n",
        "\n",
        "In data science, we need to take care of such data \n",
        "\n",
        "Lets see how pandas behaves with such data "
      ]
    },
    {
      "cell_type": "code",
      "metadata": {
        "colab": {
          "base_uri": "https://localhost:8080/",
          "height": 858
        },
        "id": "2Ud21fLfFIak",
        "outputId": "e77d5c0f-58ff-4114-d0d5-8b6604dbdd04"
      },
      "source": [
        "print(data['ConfirmedIndianNational'])\n",
        "print(data['ConfirmedForeignNational'])\n",
        "\n",
        "print(data['ConfirmedIndianNational'].isnull())\n",
        "print(data['ConfirmedForeignNational'].isnull())\n",
        "\n",
        "'''\n",
        "See, here pandas didnt recognize '-' as missing data and kept it as it is, \n",
        "so .isnull() function value is also False for the entries containing '-'\n",
        "\n",
        "'''"
      ],
      "execution_count": null,
      "outputs": [
        {
          "output_type": "stream",
          "text": [
            "0       1\n",
            "1       1\n",
            "2       2\n",
            "3       3\n",
            "4       3\n",
            "       ..\n",
            "9286    -\n",
            "9287    -\n",
            "9288    -\n",
            "9289    -\n",
            "9290    -\n",
            "Name: ConfirmedIndianNational, Length: 9291, dtype: object\n",
            "0       0\n",
            "1       0\n",
            "2       0\n",
            "3       0\n",
            "4       0\n",
            "       ..\n",
            "9286    -\n",
            "9287    -\n",
            "9288    -\n",
            "9289    -\n",
            "9290    -\n",
            "Name: ConfirmedForeignNational, Length: 9291, dtype: object\n",
            "0       False\n",
            "1       False\n",
            "2       False\n",
            "3       False\n",
            "4       False\n",
            "        ...  \n",
            "9286    False\n",
            "9287    False\n",
            "9288    False\n",
            "9289    False\n",
            "9290    False\n",
            "Name: ConfirmedIndianNational, Length: 9291, dtype: bool\n",
            "0       False\n",
            "1       False\n",
            "2       False\n",
            "3       False\n",
            "4       False\n",
            "        ...  \n",
            "9286    False\n",
            "9287    False\n",
            "9288    False\n",
            "9289    False\n",
            "9290    False\n",
            "Name: ConfirmedForeignNational, Length: 9291, dtype: bool\n"
          ],
          "name": "stdout"
        },
        {
          "output_type": "execute_result",
          "data": {
            "application/vnd.google.colaboratory.intrinsic+json": {
              "type": "string"
            },
            "text/plain": [
              "\"\\nSee, here pandas didnt recognize '-' as missing data and kept it as it is, \\nso .isnull() function value is also False for the entries containing '-'\\n\\n\""
            ]
          },
          "metadata": {
            "tags": []
          },
          "execution_count": 69
        }
      ]
    },
    {
      "cell_type": "markdown",
      "metadata": {
        "id": "QGBF3Bq8GGaz"
      },
      "source": [
        "***What is the solution on this ??***\n",
        "\n",
        "To detect such different formats like '-', we have to put them in a list. after that when we import the data, pandas will recognize them\n",
        "\n",
        "Lets try this !!"
      ]
    },
    {
      "cell_type": "code",
      "metadata": {
        "id": "7VkKlktpGqDH"
      },
      "source": [
        "mvalues = [\"-\"]\n",
        "df = pd.read_csv(\"covid_19_india.csv\", na_values = mvalues)   #'na_values' is a fixed parameter of pandas to identify missing values \n",
        "\n",
        "# now instead of using 'data' , now onwards we will use 'df' for this dataset - 'covid_19_india'"
      ],
      "execution_count": null,
      "outputs": []
    },
    {
      "cell_type": "code",
      "metadata": {
        "colab": {
          "base_uri": "https://localhost:8080/"
        },
        "id": "8mbQm7PTHerr",
        "outputId": "59ed9ad1-6410-41d4-dffb-81d01b1fef7d"
      },
      "source": [
        "print(df['ConfirmedIndianNational'])\n",
        "print(df['ConfirmedForeignNational'])\n",
        "\n",
        "print(df['ConfirmedIndianNational'].isnull())\n",
        "print(df['ConfirmedForeignNational'].isnull())\n",
        "\n",
        "\n",
        "#Great!! now pandas recognized '-' values as missing values as observed in below result\n",
        "\n"
      ],
      "execution_count": null,
      "outputs": [
        {
          "output_type": "stream",
          "text": [
            "0       1.0\n",
            "1       1.0\n",
            "2       2.0\n",
            "3       3.0\n",
            "4       3.0\n",
            "       ... \n",
            "9286    NaN\n",
            "9287    NaN\n",
            "9288    NaN\n",
            "9289    NaN\n",
            "9290    NaN\n",
            "Name: ConfirmedIndianNational, Length: 9291, dtype: float64\n",
            "0       0.0\n",
            "1       0.0\n",
            "2       0.0\n",
            "3       0.0\n",
            "4       0.0\n",
            "       ... \n",
            "9286    NaN\n",
            "9287    NaN\n",
            "9288    NaN\n",
            "9289    NaN\n",
            "9290    NaN\n",
            "Name: ConfirmedForeignNational, Length: 9291, dtype: float64\n",
            "0       False\n",
            "1       False\n",
            "2       False\n",
            "3       False\n",
            "4       False\n",
            "        ...  \n",
            "9286     True\n",
            "9287     True\n",
            "9288     True\n",
            "9289     True\n",
            "9290     True\n",
            "Name: ConfirmedIndianNational, Length: 9291, dtype: bool\n",
            "0       False\n",
            "1       False\n",
            "2       False\n",
            "3       False\n",
            "4       False\n",
            "        ...  \n",
            "9286     True\n",
            "9287     True\n",
            "9288     True\n",
            "9289     True\n",
            "9290     True\n",
            "Name: ConfirmedForeignNational, Length: 9291, dtype: bool\n"
          ],
          "name": "stdout"
        }
      ]
    },
    {
      "cell_type": "markdown",
      "metadata": {
        "id": "2PJviHlUILOl"
      },
      "source": [
        "***Great!! finally all of the different formats are recognized as missing values!!***  \n",
        "\n",
        "This is one of the critical aspects of data analysis in data science\n"
      ]
    },
    {
      "cell_type": "markdown",
      "metadata": {
        "id": "XfbnstNUKF1w"
      },
      "source": [
        "***Summarizing Missing Values***\n",
        "\n",
        "---\n",
        "\n",
        "\n",
        "\n",
        "now next step is to summarize the missing values \n",
        "\n",
        "Lets say we want to observe the total number of missing values for each feature (column name)\n",
        "\n"
      ]
    },
    {
      "cell_type": "code",
      "metadata": {
        "colab": {
          "base_uri": "https://localhost:8080/"
        },
        "id": "ol766hUrLP0E",
        "outputId": "f752d903-2a73-4079-b21b-d24b3c9fb61d"
      },
      "source": [
        "print (df.isnull().sum())   # it will give us the total number of missing values in each individual column "
      ],
      "execution_count": null,
      "outputs": [
        {
          "output_type": "stream",
          "text": [
            "Sno                            0\n",
            "Date                           0\n",
            "Time                           0\n",
            "State/UnionTerritory           0\n",
            "ConfirmedIndianNational     8845\n",
            "ConfirmedForeignNational    8845\n",
            "Cured                          0\n",
            "Deaths                         0\n",
            "Confirmed                      0\n",
            "dtype: int64\n"
          ],
          "name": "stdout"
        }
      ]
    },
    {
      "cell_type": "code",
      "metadata": {
        "colab": {
          "base_uri": "https://localhost:8080/"
        },
        "id": "NbhPGZV5Lvjh",
        "outputId": "db625eca-2d70-4c13-c854-e26ad169fb20"
      },
      "source": [
        "#lets print it for our previous dataset ( testing dataset also)\n",
        "print (tdata.isnull().sum()) "
      ],
      "execution_count": null,
      "outputs": [
        {
          "output_type": "stream",
          "text": [
            "Date               0\n",
            "State              0\n",
            "TotalSamples       0\n",
            "Negative        3772\n",
            "Positive        3200\n",
            "dtype: int64\n"
          ],
          "name": "stdout"
        }
      ]
    },
    {
      "cell_type": "code",
      "metadata": {
        "colab": {
          "base_uri": "https://localhost:8080/"
        },
        "id": "7mIhKxXPMCCh",
        "outputId": "9336d5d1-40d9-4381-e6e7-63bb05a75095"
      },
      "source": [
        "# suppose I want to check is there any missing value in entire dataset (even if there is one missing, it will give a True output)\n",
        "\n",
        "print (tdata.isnull().values.any())     #since both datasets contains missing values, it will be 'True' for both datasets\n",
        "\n",
        "print (df.isnull().values.any())"
      ],
      "execution_count": null,
      "outputs": [
        {
          "output_type": "stream",
          "text": [
            "True\n",
            "True\n"
          ],
          "name": "stdout"
        }
      ]
    },
    {
      "cell_type": "code",
      "metadata": {
        "colab": {
          "base_uri": "https://localhost:8080/"
        },
        "id": "IubbMG0CMxKE",
        "outputId": "980447e2-8d26-447d-e795-22b10940b74f"
      },
      "source": [
        "# now I want to sum all the missing values ( how many total missing values in a dataset?)\n",
        "\n",
        "print (tdata.isnull().sum().sum())      #this will give the sum of all missing values present in all columns together in entire dataset\n",
        "\n",
        "print (df.isnull().sum().sum())"
      ],
      "execution_count": null,
      "outputs": [
        {
          "output_type": "stream",
          "text": [
            "6972\n",
            "17690\n"
          ],
          "name": "stdout"
        }
      ]
    },
    {
      "cell_type": "markdown",
      "metadata": {
        "id": "cqF0JfSqNPv1"
      },
      "source": [
        "**Great!! We have summarized our missing values !!**"
      ]
    },
    {
      "cell_type": "markdown",
      "metadata": {
        "id": "C1cGUoCtQfNw"
      },
      "source": [
        "***Replacing Missing Values***\n",
        "\n",
        "---\n",
        "\n",
        "Now next step is to find the options for dealing with these missing values sometimes by deleting the rows or sometimes by replacing them by other values \n",
        "\n",
        "Again this is one more important step in data preprocessing \n",
        "\n",
        "There are many ways to replace the missing values, but which way you select is depending on your dataset, here we will discuss about the suitable way for our these datasets which are using here \n",
        "\n",
        "\n",
        "\n",
        "\n"
      ]
    },
    {
      "cell_type": "markdown",
      "metadata": {
        "id": "Vgk3gR70o56t"
      },
      "source": [
        "Drop columns in 'covid_19_india' that is , in 'df' which contains missing values using dropna() method \n",
        "\n",
        "dropna() method takes three arguments \n",
        "\n",
        "1. axis ( 0 for rows , 1 for columns ) \n",
        "2. inplace ( True makes all the changes in the existing table without returning a new table )\n",
        "3. how (to control whether you want to remove the rows containing at least 1 NaN or all NaN (missing) values ) "
      ]
    },
    {
      "cell_type": "code",
      "metadata": {
        "colab": {
          "base_uri": "https://localhost:8080/",
          "height": 287
        },
        "id": "4bLxU9KArDdl",
        "outputId": "b49d0865-de87-42da-b584-47e671a6335b"
      },
      "source": [
        "df.dropna(axis=1,inplace=True, how='any')  # it will drop those columns where at least one value is NaN (missing) since we set how as 'any'\n",
        "print(df.isnull())\n",
        "\n",
        "'''\n",
        "you can observe here that, there is no null or missing or NaN value present now \n",
        "since the result of .isnull() is False for all the values in the dataset as shown below \n",
        "also the number of columns reduced from 9 to 7 since it dropped those 2 columns \n",
        "'''\n"
      ],
      "execution_count": null,
      "outputs": [
        {
          "output_type": "stream",
          "text": [
            "        Sno   Date   Time  State/UnionTerritory  Cured  Deaths  Confirmed\n",
            "0     False  False  False                 False  False   False      False\n",
            "1     False  False  False                 False  False   False      False\n",
            "2     False  False  False                 False  False   False      False\n",
            "3     False  False  False                 False  False   False      False\n",
            "4     False  False  False                 False  False   False      False\n",
            "...     ...    ...    ...                   ...    ...     ...        ...\n",
            "9286  False  False  False                 False  False   False      False\n",
            "9287  False  False  False                 False  False   False      False\n",
            "9288  False  False  False                 False  False   False      False\n",
            "9289  False  False  False                 False  False   False      False\n",
            "9290  False  False  False                 False  False   False      False\n",
            "\n",
            "[9291 rows x 7 columns]\n"
          ],
          "name": "stdout"
        },
        {
          "output_type": "execute_result",
          "data": {
            "application/vnd.google.colaboratory.intrinsic+json": {
              "type": "string"
            },
            "text/plain": [
              "'\\nyou can observe here that, there is no null or missing or NaN value present now \\nsince the result of .isnull() is False for all the values in the dataset as shown below \\nalso the number of columns reduced from 9 to 7 since it dropped those 2 columns \\n'"
            ]
          },
          "metadata": {
            "tags": []
          },
          "execution_count": 76
        }
      ]
    },
    {
      "cell_type": "code",
      "metadata": {
        "colab": {
          "base_uri": "https://localhost:8080/"
        },
        "id": "lbBNCqD9sjKa",
        "outputId": "fa28ccbf-58bc-4067-a420-c5539f2ad8c1"
      },
      "source": [
        "#we can check that using .info() as follows \n",
        "df.info()"
      ],
      "execution_count": null,
      "outputs": [
        {
          "output_type": "stream",
          "text": [
            "<class 'pandas.core.frame.DataFrame'>\n",
            "RangeIndex: 9291 entries, 0 to 9290\n",
            "Data columns (total 7 columns):\n",
            " #   Column                Non-Null Count  Dtype \n",
            "---  ------                --------------  ----- \n",
            " 0   Sno                   9291 non-null   int64 \n",
            " 1   Date                  9291 non-null   object\n",
            " 2   Time                  9291 non-null   object\n",
            " 3   State/UnionTerritory  9291 non-null   object\n",
            " 4   Cured                 9291 non-null   int64 \n",
            " 5   Deaths                9291 non-null   int64 \n",
            " 6   Confirmed             9291 non-null   int64 \n",
            "dtypes: int64(4), object(3)\n",
            "memory usage: 508.2+ KB\n"
          ],
          "name": "stdout"
        }
      ]
    },
    {
      "cell_type": "markdown",
      "metadata": {
        "id": "nBHaPVx1tKL5"
      },
      "source": [
        "***Filling Missing Values***\n",
        "\n",
        "sometimes its not advisible to remove the rows containing missing values since they might contain valuable data in other columns. In this case, we need to fill these missing values by using certain values instead of directly removing those rows or columns \n",
        "\n",
        "\n",
        "There are many ways to fill the missing values, but we will discuss the approach which best suits for our dataset\n",
        "\n",
        "Considering our second dataset, that is testing dataset (tdata), we will use the approach where we will fill missing values by some constant value ( here we will use constant value '0') since we dont want to find mean or median which may be dangerous for further analysis as its related to medical diagnosis \n",
        "\n",
        "To do this , we will use below code for those respective columns where missing values are present in testing ('tdata') dataset"
      ]
    },
    {
      "cell_type": "code",
      "metadata": {
        "id": "1JJ71hxlwc46"
      },
      "source": [
        "tdata['Negative'].fillna(0, inplace=True) #fill missing values by 0 value in 'Negative' column\n",
        "tdata['Positive'].fillna(0, inplace=True) #fill missing values by 0 value in 'Positive' column"
      ],
      "execution_count": null,
      "outputs": []
    },
    {
      "cell_type": "code",
      "metadata": {
        "colab": {
          "base_uri": "https://localhost:8080/"
        },
        "id": "QF_F1JOtw7_4",
        "outputId": "1fdc16b5-e9bc-41f4-b08a-0bb64295c332"
      },
      "source": [
        "#verify this by printing \n",
        "tdata.info()\n",
        "\n",
        "# as you can see below that, all columns in this dataset are now become non-null \n"
      ],
      "execution_count": null,
      "outputs": [
        {
          "output_type": "stream",
          "text": [
            "<class 'pandas.core.frame.DataFrame'>\n",
            "RangeIndex: 8066 entries, 0 to 8065\n",
            "Data columns (total 5 columns):\n",
            " #   Column        Non-Null Count  Dtype  \n",
            "---  ------        --------------  -----  \n",
            " 0   Date          8066 non-null   object \n",
            " 1   State         8066 non-null   object \n",
            " 2   TotalSamples  8066 non-null   float64\n",
            " 3   Negative      8066 non-null   object \n",
            " 4   Positive      8066 non-null   float64\n",
            "dtypes: float64(2), object(3)\n",
            "memory usage: 315.2+ KB\n"
          ],
          "name": "stdout"
        }
      ]
    },
    {
      "cell_type": "markdown",
      "metadata": {
        "id": "CDhXSr6X0Nlg"
      },
      "source": [
        "**Great!! We have replaced/filled our missing values !!**"
      ]
    },
    {
      "cell_type": "markdown",
      "metadata": {
        "id": "eR-tUwjoJUa7"
      },
      "source": [
        "**Analysis on Preprocessed data** \n",
        "\n",
        "Lets do analysis on this preprocessed data now\n",
        "\n",
        "Here we will find answers of some questions which we should able to answer as a data analyst/data scientist/researcher while working in data science domain"
      ]
    },
    {
      "cell_type": "markdown",
      "metadata": {
        "id": "u3RmN9Z4J6to"
      },
      "source": [
        "***Question 1***\n",
        "\n",
        "How many states data is represented in dataset of testing (tdata) as well as general data (df)?\n",
        "\n",
        "***solution***"
      ]
    },
    {
      "cell_type": "code",
      "metadata": {
        "colab": {
          "base_uri": "https://localhost:8080/"
        },
        "id": "98CZg2A1Kd-G",
        "outputId": "09147f3d-77a4-42d3-b857-07858b359ebb"
      },
      "source": [
        "tdata['State'].nunique()   #here we have total 35 states data "
      ],
      "execution_count": null,
      "outputs": [
        {
          "output_type": "execute_result",
          "data": {
            "text/plain": [
              "35"
            ]
          },
          "metadata": {
            "tags": []
          },
          "execution_count": 80
        }
      ]
    },
    {
      "cell_type": "code",
      "metadata": {
        "colab": {
          "base_uri": "https://localhost:8080/"
        },
        "id": "Yeu_UjwUK08k",
        "outputId": "c1b6b2cd-3dac-4ffc-cd45-43fe9b908110"
      },
      "source": [
        "df['State/UnionTerritory'].nunique()   #here we have total 45 state/unionterritory data "
      ],
      "execution_count": null,
      "outputs": [
        {
          "output_type": "execute_result",
          "data": {
            "text/plain": [
              "45"
            ]
          },
          "metadata": {
            "tags": []
          },
          "execution_count": 81
        }
      ]
    },
    {
      "cell_type": "markdown",
      "metadata": {
        "id": "oFsmxdLYLPCQ"
      },
      "source": [
        "***Question 2***\n",
        "\n",
        "What is the total number of confirmed cases?\n",
        "\n",
        "***solution***"
      ]
    },
    {
      "cell_type": "code",
      "metadata": {
        "colab": {
          "base_uri": "https://localhost:8080/"
        },
        "id": "8RgC6cX9LOZ6",
        "outputId": "e68148f4-3849-4129-e951-a159ffee35ad"
      },
      "source": [
        "df['Confirmed'].sum() #here we are considering confirmed column from 'df' data "
      ],
      "execution_count": null,
      "outputs": [
        {
          "output_type": "execute_result",
          "data": {
            "text/plain": [
              "853283429"
            ]
          },
          "metadata": {
            "tags": []
          },
          "execution_count": 82
        }
      ]
    },
    {
      "cell_type": "markdown",
      "metadata": {
        "id": "H4QxA8cZMF-g"
      },
      "source": [
        "***Question 3***\n",
        "\n",
        "What are top five States with the most number of confirmed cases?\n",
        "\n",
        "***solution***"
      ]
    },
    {
      "cell_type": "code",
      "metadata": {
        "colab": {
          "base_uri": "https://localhost:8080/",
          "height": 195
        },
        "id": "SxGz5RrcMVAT",
        "outputId": "f8c4c975-fd08-4869-e4d9-3cddafe74b97"
      },
      "source": [
        "df1= df.sort_values(by ='Confirmed', ascending=False)   #here we are sorting the values in confirmed column \n",
        "df1.head(5)\n",
        "# so result is only one state as top 5 total number of confirmed cases found in maharashtra only"
      ],
      "execution_count": null,
      "outputs": [
        {
          "output_type": "execute_result",
          "data": {
            "text/html": [
              "<div>\n",
              "<style scoped>\n",
              "    .dataframe tbody tr th:only-of-type {\n",
              "        vertical-align: middle;\n",
              "    }\n",
              "\n",
              "    .dataframe tbody tr th {\n",
              "        vertical-align: top;\n",
              "    }\n",
              "\n",
              "    .dataframe thead th {\n",
              "        text-align: right;\n",
              "    }\n",
              "</style>\n",
              "<table border=\"1\" class=\"dataframe\">\n",
              "  <thead>\n",
              "    <tr style=\"text-align: right;\">\n",
              "      <th></th>\n",
              "      <th>Sno</th>\n",
              "      <th>Date</th>\n",
              "      <th>Time</th>\n",
              "      <th>State/UnionTerritory</th>\n",
              "      <th>Cured</th>\n",
              "      <th>Deaths</th>\n",
              "      <th>Confirmed</th>\n",
              "    </tr>\n",
              "  </thead>\n",
              "  <tbody>\n",
              "    <tr>\n",
              "      <th>9275</th>\n",
              "      <td>9276</td>\n",
              "      <td>09/12/20</td>\n",
              "      <td>8:00 AM</td>\n",
              "      <td>Maharashtra</td>\n",
              "      <td>1737080</td>\n",
              "      <td>47827</td>\n",
              "      <td>1859367</td>\n",
              "    </tr>\n",
              "    <tr>\n",
              "      <th>9240</th>\n",
              "      <td>9241</td>\n",
              "      <td>08/12/20</td>\n",
              "      <td>8:00 AM</td>\n",
              "      <td>Maharashtra</td>\n",
              "      <td>1730715</td>\n",
              "      <td>47774</td>\n",
              "      <td>1855341</td>\n",
              "    </tr>\n",
              "    <tr>\n",
              "      <th>9205</th>\n",
              "      <td>9206</td>\n",
              "      <td>07/12/20</td>\n",
              "      <td>8:00 AM</td>\n",
              "      <td>Maharashtra</td>\n",
              "      <td>1723370</td>\n",
              "      <td>47734</td>\n",
              "      <td>1852266</td>\n",
              "    </tr>\n",
              "    <tr>\n",
              "      <th>9170</th>\n",
              "      <td>9171</td>\n",
              "      <td>06/12/20</td>\n",
              "      <td>8:00 AM</td>\n",
              "      <td>Maharashtra</td>\n",
              "      <td>1715884</td>\n",
              "      <td>47694</td>\n",
              "      <td>1847509</td>\n",
              "    </tr>\n",
              "    <tr>\n",
              "      <th>9135</th>\n",
              "      <td>9136</td>\n",
              "      <td>05/12/20</td>\n",
              "      <td>8:00 AM</td>\n",
              "      <td>Maharashtra</td>\n",
              "      <td>1710050</td>\n",
              "      <td>47599</td>\n",
              "      <td>1842587</td>\n",
              "    </tr>\n",
              "  </tbody>\n",
              "</table>\n",
              "</div>"
            ],
            "text/plain": [
              "       Sno      Date     Time State/UnionTerritory    Cured  Deaths  Confirmed\n",
              "9275  9276  09/12/20  8:00 AM          Maharashtra  1737080   47827    1859367\n",
              "9240  9241  08/12/20  8:00 AM          Maharashtra  1730715   47774    1855341\n",
              "9205  9206  07/12/20  8:00 AM          Maharashtra  1723370   47734    1852266\n",
              "9170  9171  06/12/20  8:00 AM          Maharashtra  1715884   47694    1847509\n",
              "9135  9136  05/12/20  8:00 AM          Maharashtra  1710050   47599    1842587"
            ]
          },
          "metadata": {
            "tags": []
          },
          "execution_count": 83
        }
      ]
    },
    {
      "cell_type": "markdown",
      "metadata": {
        "id": "urEGFKLfNsJO"
      },
      "source": [
        "***Question 4***\n",
        "\n",
        "What is the percentage of cured cases from confirmed cases?\n",
        "\n",
        "***solution***"
      ]
    },
    {
      "cell_type": "code",
      "metadata": {
        "colab": {
          "base_uri": "https://localhost:8080/"
        },
        "id": "5IySWblmMlTH",
        "outputId": "fa7dd6ad-07e3-44c4-cb79-4eb6201a0849"
      },
      "source": [
        "print((df['Cured'].sum()/df['Confirmed'].sum())*100)  #as shown below, answer is 85.61 % "
      ],
      "execution_count": null,
      "outputs": [
        {
          "output_type": "stream",
          "text": [
            "85.61938755287841\n"
          ],
          "name": "stdout"
        }
      ]
    },
    {
      "cell_type": "markdown",
      "metadata": {
        "id": "JgogPhYgPVoI"
      },
      "source": [
        "***Question 5***\n",
        "\n",
        "What is the percentage of positive from total samples collected in testing data?\n",
        "\n",
        "***solution***"
      ]
    },
    {
      "cell_type": "code",
      "metadata": {
        "colab": {
          "base_uri": "https://localhost:8080/"
        },
        "id": "NamjzhenPlGz",
        "outputId": "991b5f99-9d27-43eb-ae74-597edef984a9"
      },
      "source": [
        "print((tdata['Positive'].sum()/tdata['TotalSamples'].sum())*100)  #its good that the positive rate is below 2%"
      ],
      "execution_count": null,
      "outputs": [
        {
          "output_type": "stream",
          "text": [
            "1.7329394812290562\n"
          ],
          "name": "stdout"
        }
      ]
    },
    {
      "cell_type": "markdown",
      "metadata": {
        "id": "Aq9wdQCeAL_H"
      },
      "source": [
        "**Data visualization**\n",
        "\n",
        "we done with analysis, now its time to visualize the data to get some more insights from it \n",
        "\n",
        "There are various libraries available in python for data visualization like Matplotlib, seaborn , plotly etc \n",
        "\n",
        "We will cover some important plots using some of these libaries in this section which is as follows "
      ]
    },
    {
      "cell_type": "markdown",
      "metadata": {
        "id": "UqCSwRw-A-lC"
      },
      "source": [
        "***using Seaborn library***\n",
        "\n",
        "To use this library , we need to install and import it.\n",
        "\n",
        "we will use the below command to install it \n",
        "\n"
      ]
    },
    {
      "cell_type": "code",
      "metadata": {
        "colab": {
          "base_uri": "https://localhost:8080/"
        },
        "id": "qON9LmXdA939",
        "outputId": "5a25679c-df54-4801-b4ce-d2140e44cfe4"
      },
      "source": [
        "!pip install seaborn"
      ],
      "execution_count": null,
      "outputs": [
        {
          "output_type": "stream",
          "text": [
            "Requirement already satisfied: seaborn in /usr/local/lib/python3.7/dist-packages (0.11.1)\n",
            "Requirement already satisfied: numpy>=1.15 in /usr/local/lib/python3.7/dist-packages (from seaborn) (1.19.5)\n",
            "Requirement already satisfied: pandas>=0.23 in /usr/local/lib/python3.7/dist-packages (from seaborn) (1.1.5)\n",
            "Requirement already satisfied: scipy>=1.0 in /usr/local/lib/python3.7/dist-packages (from seaborn) (1.4.1)\n",
            "Requirement already satisfied: matplotlib>=2.2 in /usr/local/lib/python3.7/dist-packages (from seaborn) (3.2.2)\n",
            "Requirement already satisfied: python-dateutil>=2.7.3 in /usr/local/lib/python3.7/dist-packages (from pandas>=0.23->seaborn) (2.8.1)\n",
            "Requirement already satisfied: pytz>=2017.2 in /usr/local/lib/python3.7/dist-packages (from pandas>=0.23->seaborn) (2018.9)\n",
            "Requirement already satisfied: cycler>=0.10 in /usr/local/lib/python3.7/dist-packages (from matplotlib>=2.2->seaborn) (0.10.0)\n",
            "Requirement already satisfied: kiwisolver>=1.0.1 in /usr/local/lib/python3.7/dist-packages (from matplotlib>=2.2->seaborn) (1.3.1)\n",
            "Requirement already satisfied: pyparsing!=2.0.4,!=2.1.2,!=2.1.6,>=2.0.1 in /usr/local/lib/python3.7/dist-packages (from matplotlib>=2.2->seaborn) (2.4.7)\n",
            "Requirement already satisfied: six>=1.5 in /usr/local/lib/python3.7/dist-packages (from python-dateutil>=2.7.3->pandas>=0.23->seaborn) (1.15.0)\n"
          ],
          "name": "stdout"
        }
      ]
    },
    {
      "cell_type": "code",
      "metadata": {
        "id": "u3qGbmPWBnpq"
      },
      "source": [
        "#To use seaborn, we need to import it now using below command\n",
        "\n",
        "import seaborn as sns      #here we are using 'sns' as shortname instead of using seaborn each time"
      ],
      "execution_count": null,
      "outputs": []
    },
    {
      "cell_type": "code",
      "metadata": {
        "colab": {
          "base_uri": "https://localhost:8080/",
          "height": 307
        },
        "id": "xPobQS83CJTE",
        "outputId": "90ebe8b6-c2b7-413a-dbb8-31c7a623f2a5"
      },
      "source": [
        "#Suppose we want to visualize Total samples Vs Positive using scatter plot , how we can visualize it?\n",
        "sns.scatterplot(x='TotalSamples',y='Positive',data=tdata)\n",
        "\n",
        "#as shown in below output, we can see how rate of positive cases varies as number of Total samples vary \n",
        "#1e6 represents 1*(10**6) and 1e7 represents 1*(10**7)\n"
      ],
      "execution_count": null,
      "outputs": [
        {
          "output_type": "execute_result",
          "data": {
            "text/plain": [
              "<matplotlib.axes._subplots.AxesSubplot at 0x7f68f0987610>"
            ]
          },
          "metadata": {
            "tags": []
          },
          "execution_count": 88
        },
        {
          "output_type": "display_data",
          "data": {
            "image/png": "[encoded data removed]",
            "text/plain": [
              "<Figure size 432x288 with 1 Axes>"
            ]
          },
          "metadata": {
            "tags": [],
            "needs_background": "light"
          }
        }
      ]
    },
    {
      "cell_type": "code",
      "metadata": {
        "colab": {
          "base_uri": "https://localhost:8080/",
          "height": 400
        },
        "id": "bcROmUZzpydc",
        "outputId": "47678cee-b90d-4cd9-d4c4-1d08b775385d"
      },
      "source": [
        "#lets try one more plot \n",
        "#suppose we want to plot total number of statewise deaths , we can use relational plot of seaborn here \n",
        "\n",
        "sns.relplot(data=df, x=\"State/UnionTerritory\", y=\"Deaths\")\n",
        "\n",
        "#because of space limitation in colab, names of state/Unionterritory not visible properly \n",
        "#figure shows peak number of deaths  in some states"
      ],
      "execution_count": null,
      "outputs": [
        {
          "output_type": "execute_result",
          "data": {
            "text/plain": [
              "<seaborn.axisgrid.FacetGrid at 0x7f68f07aa090>"
            ]
          },
          "metadata": {
            "tags": []
          },
          "execution_count": 89
        },
        {
          "output_type": "display_data",
          "data": {
            "image/png": "[encoded data removed]",
            "text/plain": [
              "<Figure size 360x360 with 1 Axes>"
            ]
          },
          "metadata": {
            "tags": [],
            "needs_background": "light"
          }
        }
      ]
    },
    {
      "cell_type": "code",
      "metadata": {
        "colab": {
          "base_uri": "https://localhost:8080/"
        },
        "id": "f8dxYbIJw8OV",
        "outputId": "e0299ed6-7f7e-40df-f645-73035ac46826"
      },
      "source": [
        "#lets filter out Delhi data \n",
        "\n",
        "df3= df[df[\"State/UnionTerritory\"] == 'Delhi']\n",
        "print(df3.head())   #this will show the initial entries for delhi, not all\n",
        "print(df3.shape)   # so there are total 283 rows for the delhi in data set\n",
        "\n",
        "\n"
      ],
      "execution_count": null,
      "outputs": [
        {
          "output_type": "stream",
          "text": [
            "    Sno      Date     Time State/UnionTerritory  Cured  Deaths  Confirmed\n",
            "34   35  02/03/20  6:00 PM                Delhi      0       0          1\n",
            "38   39  03/03/20  6:00 PM                Delhi      0       0          1\n",
            "42   43  04/03/20  6:00 PM                Delhi      0       0          1\n",
            "45   46  05/03/20  6:00 PM                Delhi      0       0          2\n",
            "51   52  06/03/20  6:00 PM                Delhi      0       0          3\n",
            "(283, 7)\n"
          ],
          "name": "stdout"
        }
      ]
    },
    {
      "cell_type": "code",
      "metadata": {
        "colab": {
          "base_uri": "https://localhost:8080/",
          "height": 349
        },
        "id": "NQJsblfN6_tZ",
        "outputId": "c5154596-e033-4a97-a28b-b701f8d4dfa3"
      },
      "source": [
        "#now suppose we want statewise analysis of Positive cases found on particular Date - lets say on 23/10/2020\n",
        "#since one parameter is common ( number of positive cases) and we want to analysis this one only across various states\n",
        "#pie chart will be suitable for such scenario\n",
        "#we can do this using Matplotlib \n",
        "\n",
        "import matplotlib.pyplot as plt\n",
        "\n",
        "df4= tdata[tdata[\"Date\"] == '2020-05-23']\n",
        "print(df4.head())\n",
        "plt.pie(df4['Positive'],labels=df4['State'])\n",
        "plt.show()\n",
        "\n",
        "#from below result we can easily say that, for maharashtra state, there are more number of Positive cases found on 23/10/2020 than other states\n"
      ],
      "execution_count": null,
      "outputs": [
        {
          "output_type": "stream",
          "text": [
            "           Date                        State  TotalSamples Negative  Positive\n",
            "9    2020-05-23  Andaman and Nicobar Islands        7327.0        0      33.0\n",
            "251  2020-05-23               Andhra Pradesh      292969.0   290255    2561.0\n",
            "485  2020-05-23            Arunachal Pradesh        5206.0     4340       2.0\n",
            "714  2020-05-23                        Assam       60405.0    54185     329.0\n",
            "951  2020-05-23                        Bihar       61220.0        0    2344.0\n"
          ],
          "name": "stdout"
        },
        {
          "output_type": "display_data",
          "data": {
            "image/png": "[encoded data removed]",
            "text/plain": [
              "<Figure size 432x288 with 1 Axes>"
            ]
          },
          "metadata": {
            "tags": []
          }
        }
      ]
    },
    {
      "cell_type": "markdown",
      "metadata": {
        "id": "zxhJV5xVBTtV"
      },
      "source": [
        "Likewise we can do the data visualization using various approaches depending on what we want \n",
        "\n",
        "**Great!! Now we have visualized the data present in both the datasets which we have used.** \n",
        "\n",
        "Thank you\n",
        "\n",
        "(Author - Mr. Rahul Bal)"
      ]
    }
  ]
}